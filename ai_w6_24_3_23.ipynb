{
  "nbformat": 4,
  "nbformat_minor": 0,
  "metadata": {
    "colab": {
      "provenance": [],
      "authorship_tag": "ABX9TyM7ldoIlYv1IF5MOl3Z6+m6",
      "include_colab_link": true
    },
    "kernelspec": {
      "name": "python3",
      "display_name": "Python 3"
    },
    "language_info": {
      "name": "python"
    }
  },
  "cells": [
    {
      "cell_type": "markdown",
      "metadata": {
        "id": "view-in-github",
        "colab_type": "text"
      },
      "source": [
        "<a href=\"https://colab.research.google.com/github/tuananhnguyen512/AI2023_class/blob/main/ai_w6_24_3_23.ipynb\" target=\"_parent\"><img src=\"https://colab.research.google.com/assets/colab-badge.svg\" alt=\"Open In Colab\"/></a>"
      ]
    },
    {
      "cell_type": "code",
      "execution_count": null,
      "metadata": {
        "colab": {
          "base_uri": "https://localhost:8080/"
        },
        "id": "-XlpWA4-cU6F",
        "outputId": "0f4bf566-4abd-42fc-a03d-51d11cbcdabb"
      },
      "outputs": [
        {
          "output_type": "stream",
          "name": "stdout",
          "text": [
            "Looking in indexes: https://pypi.org/simple, https://us-python.pkg.dev/colab-wheels/public/simple/\n",
            "Collecting scikit-fuzzy\n",
            "  Downloading scikit-fuzzy-0.4.2.tar.gz (993 kB)\n",
            "\u001b[2K     \u001b[90m━━━━━━━━━━━━━━━━━━━━━━━━━━━━━━━━━━━━━━\u001b[0m \u001b[32m994.0/994.0 KB\u001b[0m \u001b[31m31.9 MB/s\u001b[0m eta \u001b[36m0:00:00\u001b[0m\n",
            "\u001b[?25h  Preparing metadata (setup.py) ... \u001b[?25l\u001b[?25hdone\n",
            "Requirement already satisfied: numpy>=1.6.0 in /usr/local/lib/python3.9/dist-packages (from scikit-fuzzy) (1.22.4)\n",
            "Requirement already satisfied: scipy>=0.9.0 in /usr/local/lib/python3.9/dist-packages (from scikit-fuzzy) (1.10.1)\n",
            "Requirement already satisfied: networkx>=1.9.0 in /usr/local/lib/python3.9/dist-packages (from scikit-fuzzy) (3.0)\n",
            "Building wheels for collected packages: scikit-fuzzy\n",
            "  Building wheel for scikit-fuzzy (setup.py) ... \u001b[?25l\u001b[?25hdone\n",
            "  Created wheel for scikit-fuzzy: filename=scikit_fuzzy-0.4.2-py3-none-any.whl size=894086 sha256=d79d78069b1d02f334c8648c3610f44f478d653135bbf527e405213d6ae806c7\n",
            "  Stored in directory: /root/.cache/pip/wheels/32/2c/a1/a90a7d7dd8448ec029f298a61f3490275e99b17aa348be675c\n",
            "Successfully built scikit-fuzzy\n",
            "Installing collected packages: scikit-fuzzy\n",
            "Successfully installed scikit-fuzzy-0.4.2\n"
          ]
        }
      ],
      "source": [
        "pip install scikit-fuzzy"
      ]
    },
    {
      "cell_type": "code",
      "source": [
        "\n",
        "import numpy as np\n",
        "import skfuzzy as fuzz \n",
        "from skfuzzy import control as ctrl \n",
        "\n",
        "#DC motor control. \n",
        "sp = ctrl.Antecedent(np.arange(17, 29, 0.5), 'sp')\n",
        "cv = ctrl.Antecedent(np.arange(0, 41, 0.5), 'cv')\n",
        "mv = ctrl.Consequent(np.arange(0, 260, 0.5), 'mv')\n",
        "\n",
        "# range: 18 - 27\n",
        "sp['very_low'] = fuzz.trimf(sp.universe, [18,18,20])\n",
        "sp['low'] = fuzz.trimf(sp.universe, [18,20,22])\n",
        "sp['normal'] = fuzz.trimf(sp.universe, [20,22,24])\n",
        "sp['high'] = fuzz.trimf(sp.universe, [22,24,27])\n",
        "sp['very_high'] = fuzz.trimf(sp.universe, [24,27,27])\n",
        "\n",
        "#range: 0 - 40\n",
        "cv['very_low'] = fuzz.trimf(cv.universe, [0,0,10])\n",
        "cv['low'] = fuzz.trimf(cv.universe, [0,10,15])\n",
        "cv['normal'] = fuzz.trimf(cv.universe, [10,15,25])\n",
        "cv['high'] = fuzz.trimf(cv.universe, [15,25,40])\n",
        "cv['very_high'] = fuzz.trimf(cv.universe, [25,40,40])\n",
        "\n",
        "#range: 0 - 60 Hz\n",
        "# mv['very_low'] = fuzz.trimf(mv.universe, [0,0,10])\n",
        "# mv['low'] = fuzz.trimf(mv.universe, [0,10,20])\n",
        "# mv['normal'] = fuzz.trimf(mv.universe, [10,20,40])\n",
        "# mv['high'] = fuzz.trimf(mv.universe, [20,40,60])\n",
        "# mv['very_high'] =  fuzz.trimf(mv.universe, [40,60,60])\n",
        "\n",
        "# OR range: 0 - 255 (pwm)\n",
        "mv['very_low'] = fuzz.trimf(mv.universe, [0,0,70])\n",
        "mv['low'] = fuzz.trimf(mv.universe, [0,60,120])\n",
        "mv['normal'] = fuzz.trimf(mv.universe, [70,135,200])\n",
        "mv['very_high'] =  fuzz.trimf(mv.universe, [200,255,255])\n",
        "\n",
        "#Rule\n",
        "rule1 = ctrl.Rule(sp['very_low']&cv['very_low']\n",
        "                    | sp['very_low']&cv['low']\n",
        "                    | sp['low']&cv['very_low'] ,mv['very_low'])\n",
        "\n",
        "rule2 = ctrl.Rule(sp['low']&cv['normal']\n",
        "                    | sp['very_low']&cv['normal']\n",
        "                    | sp['low']&cv['low'] \n",
        "                    | sp['normal']&cv['low']\n",
        "                    | sp['normal']&cv['very_low'],mv['low'])\n",
        "\n",
        "rule3 = ctrl.Rule(sp['very_low']&cv['high']\n",
        "                    | sp['low']&cv['high']\n",
        "                    | sp['normal']&cv['normal'] \n",
        "                    | sp['high']&cv['low']\n",
        "                    | sp['high']&cv['very_low'] ,mv['normal'])\n",
        "\n",
        "rule4 = ctrl.Rule(sp['very_high']&cv['very_low']\n",
        "                    | sp['very_high']&cv['low']\n",
        "                    | sp['very_high']&cv['normal']\n",
        "                    | sp['high']&cv['normal'] \n",
        "                    | sp['normal']&cv['high']\n",
        "                    | sp['low']&cv['very_high']\n",
        "                    | sp['normal']&cv['very_high'] \n",
        "                    | sp['very_low']&cv['very_high'] ,mv['high'])\n",
        "\n",
        "rule5 = ctrl.Rule(sp['high']&cv['high'] \n",
        "                    | sp['very_high']&cv['high']\n",
        "                    | sp['high']&cv['very_high'] \n",
        "                    | sp['very_high']&cv['very_high'],mv['very_high'])\n",
        "\n",
        "\n",
        "mv_ctrl = ctrl.ControlSystem([rule1,rule2,rule3,rule4,rule5])\n",
        "mving = ctrl.ControlSystemSimulation(mv_ctrl)\n",
        "\n",
        "mving.input['sp'] = 25\n",
        "mving.input['cv'] = 33\n",
        "mving.compute()\n",
        "\n",
        "print(mving.output['mv'])\n",
        "mv.view(sim=mving)"
      ],
      "metadata": {
        "colab": {
          "base_uri": "https://localhost:8080/",
          "height": 373
        },
        "id": "HXF4-q2Uctu1",
        "outputId": "83b11af5-98e5-41d6-95b6-3c18a048f0fa"
      },
      "execution_count": null,
      "outputs": [
        {
          "output_type": "error",
          "ename": "ValueError",
          "evalue": "ignored",
          "traceback": [
            "\u001b[0;31m---------------------------------------------------------------------------\u001b[0m",
            "\u001b[0;31mValueError\u001b[0m                                Traceback (most recent call last)",
            "\u001b[0;32m<ipython-input-4-1097f07edb6e>\u001b[0m in \u001b[0;36m<cell line: 54>\u001b[0;34m()\u001b[0m\n\u001b[1;32m     59\u001b[0m                     \u001b[0;34m|\u001b[0m \u001b[0msp\u001b[0m\u001b[0;34m[\u001b[0m\u001b[0;34m'low'\u001b[0m\u001b[0;34m]\u001b[0m\u001b[0;34m&\u001b[0m\u001b[0mcv\u001b[0m\u001b[0;34m[\u001b[0m\u001b[0;34m'very_high'\u001b[0m\u001b[0;34m]\u001b[0m\u001b[0;34m\u001b[0m\u001b[0;34m\u001b[0m\u001b[0m\n\u001b[1;32m     60\u001b[0m                     \u001b[0;34m|\u001b[0m \u001b[0msp\u001b[0m\u001b[0;34m[\u001b[0m\u001b[0;34m'normal'\u001b[0m\u001b[0;34m]\u001b[0m\u001b[0;34m&\u001b[0m\u001b[0mcv\u001b[0m\u001b[0;34m[\u001b[0m\u001b[0;34m'very_high'\u001b[0m\u001b[0;34m]\u001b[0m\u001b[0;34m\u001b[0m\u001b[0;34m\u001b[0m\u001b[0m\n\u001b[0;32m---> 61\u001b[0;31m                     | sp['very_low']&cv['very_high'] ,mv['high'])\n\u001b[0m\u001b[1;32m     62\u001b[0m \u001b[0;34m\u001b[0m\u001b[0m\n\u001b[1;32m     63\u001b[0m rule5 = ctrl.Rule(sp['high']&cv['high'] \n",
            "\u001b[0;32m/usr/local/lib/python3.9/dist-packages/skfuzzy/control/fuzzyvariable.py\u001b[0m in \u001b[0;36m__getitem__\u001b[0;34m(self, key)\u001b[0m\n\u001b[1;32m     80\u001b[0m                 \u001b[0;32melse\u001b[0m\u001b[0;34m:\u001b[0m\u001b[0;34m\u001b[0m\u001b[0;34m\u001b[0m\u001b[0m\n\u001b[1;32m     81\u001b[0m                     \u001b[0moptions\u001b[0m \u001b[0;34m+=\u001b[0m \u001b[0;34m\"'\"\u001b[0m \u001b[0;34m+\u001b[0m \u001b[0mstr\u001b[0m\u001b[0;34m(\u001b[0m\u001b[0mavailable_key\u001b[0m\u001b[0;34m)\u001b[0m \u001b[0;34m+\u001b[0m \u001b[0;34m\"'; \"\u001b[0m\u001b[0;34m\u001b[0m\u001b[0;34m\u001b[0m\u001b[0m\n\u001b[0;32m---> 82\u001b[0;31m             raise ValueError(\"Membership function '{0}' does not exist for \"\n\u001b[0m\u001b[1;32m     83\u001b[0m                              \u001b[0;34m\"{1} {2}.\\n\"\u001b[0m\u001b[0;34m\u001b[0m\u001b[0;34m\u001b[0m\u001b[0m\n\u001b[1;32m     84\u001b[0m                              \"Available options: {3}\".format(\n",
            "\u001b[0;31mValueError\u001b[0m: Membership function 'high' does not exist for Consequent mv.\nAvailable options: 'very_low'; 'low'; 'normal', or 'very_high'."
          ]
        }
      ]
    },
    {
      "cell_type": "code",
      "source": [],
      "metadata": {
        "id": "5EROqOw6dJD6"
      },
      "execution_count": null,
      "outputs": []
    }
  ]
}